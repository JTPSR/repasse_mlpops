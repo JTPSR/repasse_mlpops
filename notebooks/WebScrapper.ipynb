{
 "cells": [
  {
   "cell_type": "markdown",
   "id": "07154b22-1c54-436d-8049-19a6cc2596a7",
   "metadata": {},
   "source": [
    "# 1. Imports"
   ]
  },
  {
   "cell_type": "code",
   "execution_count": 3,
   "id": "b921fbc2-fb45-4a4d-8312-1a1cb0c699e5",
   "metadata": {},
   "outputs": [],
   "source": [
    "import requests\n",
    "import pandas as pd\n",
    "\n",
    "from bs4 import BeautifulSoup"
   ]
  },
  {
   "cell_type": "code",
   "execution_count": 7,
   "id": "846e7e30-f9dd-4177-8426-3b6753d4a623",
   "metadata": {},
   "outputs": [],
   "source": [
    "request = requests.get('https://www.imovirtual.com/arrendar/apartamento/', headers = {\"User-Agent\": \"Mozilla/5.0 (Windows NT 10.0; Win64; x64)\"})"
   ]
  },
  {
   "cell_type": "code",
   "execution_count": 11,
   "id": "c2319b42-655c-4485-9d88-1f56d299ce44",
   "metadata": {},
   "outputs": [
    {
     "data": {
      "text/plain": [
       "<Response [200]>"
      ]
     },
     "execution_count": 11,
     "metadata": {},
     "output_type": "execute_result"
    }
   ],
   "source": [
    "request"
   ]
  },
  {
   "cell_type": "code",
   "execution_count": 12,
   "id": "83bb95ee-142c-4e64-8e6b-d89ab1745083",
   "metadata": {},
   "outputs": [],
   "source": [
    "if request.status_code == 200:\n",
    "    soup = BeautifulSoup(request.content, \"html.parser\")\n",
    "\n",
    "    "
   ]
  },
  {
   "cell_type": "code",
   "execution_count": 15,
   "id": "06ffcf7a-b191-422d-9165-c735149281e8",
   "metadata": {},
   "outputs": [],
   "source": [
    "list_ads = soup.find_all('article')"
   ]
  },
  {
   "cell_type": "code",
   "execution_count": 20,
   "id": "c77056e0-05a6-4c1a-8bb0-d3c57362ca0b",
   "metadata": {},
   "outputs": [
    {
     "name": "stdout",
     "output_type": "stream",
     "text": [
      "<span class=\"offer-item-title\">Apartamento T2+1 para arrendamento com móveis em Arroios</span>\n",
      "<span class=\"offer-item-title\">Apartamento T1 mobilado e equipado para arrendamento no Monte Estoril</span>\n",
      "<span class=\"offer-item-title\">Apartamento T2 para arrendar no Aviz, em Aldoar, Porto</span>\n",
      "<span class=\"offer-item-title\">Apartamento com 160m2 e estacionamento, para arrendar em Miraflores</span>\n",
      "<span class=\"offer-item-title\">Apartamento T2 novo, na Azenha, Paranhos</span>\n",
      "<span class=\"offer-item-title\">Apartamento T1Kit , novo, em frente ao Hospital S. João</span>\n",
      "<span class=\"offer-item-title\">T3 para arrendamento no condomínio Parque Oceano II em Oe...</span>\n",
      "<span class=\"offer-item-title\">Apartamento T1 à arrendar na rua Professor Armando de Castro, 17 Porto</span>\n",
      "<span class=\"offer-item-title\">Apartamento T2 com terraço para arrendamento, na Graça</span>\n",
      "<span class=\"offer-item-title\">Apartamento T1 Paranhos</span>\n",
      "<span class=\"offer-item-title\">Apartamento T1 Hospital S João, Paranhos</span>\n",
      "<span class=\"offer-item-title\">Apartamento T3 para arrendamento na Penha de França, Lisboa</span>\n",
      "<span class=\"offer-item-title\">Apartamento T4 para arrendamento</span>\n",
      "<span class=\"offer-item-title\">Apartamento para arrendamento na Sobreda perto das praias</span>\n",
      "<span class=\"offer-item-title\">T4 Alcântara Residence</span>\n",
      "<span class=\"offer-item-title\">Apartamento T5 em Lisboa de 190,00 m2</span>\n",
      "<span class=\"offer-item-title\">Apartamento T3 | Av. Roma</span>\n",
      "<span class=\"offer-item-title\">Apartamento T3 para arrendamento</span>\n",
      "<span class=\"offer-item-title\">Apartamento T1 - Guimarães - Universidade do Minho - Mobilado e Equipa</span>\n",
      "<span class=\"offer-item-title\">Apartamento T2 | Telheiras Sul</span>\n",
      "<span class=\"offer-item-title\">T1+1 (transformado em T2) a 1,5km da rotunda de Santo Ovídeo</span>\n",
      "<span class=\"offer-item-title\">Apartamento T1+2 com jardim perto do Marquês de Pombal, Lisboa</span>\n",
      "<span class=\"offer-item-title\">T3 em Miraflores como novo, totalmente mobilado.</span>\n",
      "<span class=\"offer-item-title\">T3 nos Fidalguinhos (AF)</span>\n"
     ]
    }
   ],
   "source": [
    "for ad in list_ads:\n",
    "    # print(ad.find('li', {'class': 'offer-item-price'}))\n",
    "    print(ad.find('span', {'class': 'offer-item-title'}))"
   ]
  },
  {
   "cell_type": "code",
   "execution_count": null,
   "id": "3d336661-dacb-4455-b4cc-f96540bd3525",
   "metadata": {},
   "outputs": [],
   "source": []
  }
 ],
 "metadata": {
  "kernelspec": {
   "display_name": "Python 3 (ipykernel)",
   "language": "python",
   "name": "python3"
  },
  "language_info": {
   "codemirror_mode": {
    "name": "ipython",
    "version": 3
   },
   "file_extension": ".py",
   "mimetype": "text/x-python",
   "name": "python",
   "nbconvert_exporter": "python",
   "pygments_lexer": "ipython3",
   "version": "3.10.11"
  }
 },
 "nbformat": 4,
 "nbformat_minor": 5
}
